{
 "cells": [
  {
   "cell_type": "code",
   "execution_count": 8,
   "metadata": {},
   "outputs": [],
   "source": [
    "import tensorflow as tf\n",
    "from tensorflow import keras\n",
    "from keras.models import Model\n",
    "from keras.layers import Activation, AveragePooling2D, BatchNormalization, Concatenate, Conv2D, Dense, GlobalAveragePooling2D, GlobalMaxPooling2D, Input, Lambda, MaxPooling2D\n",
    "from keras import backend as K\n",
    "from tensorflow.keras.applications import InceptionResNetV2\n",
    "from keras.datasets import mnist\n",
    "import numpy as np\n"
   ]
  },
  {
   "cell_type": "code",
   "execution_count": 9,
   "metadata": {},
   "outputs": [],
   "source": [
    "(x_train, y_train), (x_test, y_test) = mnist.load_data()\n",
    "x_train = np.expand_dims(x_train,-1)\n",
    "x_test = np.expand_dims(x_test,-1)\n",
    "x_train = x_train.astype('float32')\n",
    "x_test = x_test.astype('float32')\n",
    "x_train /= 255\n",
    "x_test /= 255"
   ]
  },
  {
   "cell_type": "code",
   "execution_count": 32,
   "metadata": {},
   "outputs": [],
   "source": [
    "input_shape = (224,224,3)\n",
    "embedding_size = 128"
   ]
  },
  {
   "cell_type": "code",
   "execution_count": 25,
   "metadata": {},
   "outputs": [
    {
     "name": "stdout",
     "output_type": "stream",
     "text": [
      "Model: \"functional_15\"\n",
      "_________________________________________________________________\n",
      "Layer (type)                 Output Shape              Param #   \n",
      "=================================================================\n",
      "input_10 (InputLayer)        [(None, 224, 224, 3)]     0         \n",
      "_________________________________________________________________\n",
      "conv2d_413 (Conv2D)          (None, 112, 112, 64)      9472      \n",
      "_________________________________________________________________\n",
      "max_pooling2d_12 (MaxPooling (None, 56, 56, 64)        0         \n",
      "_________________________________________________________________\n",
      "batch_normalization_410 (Bat (None, 56, 56, 64)        256       \n",
      "=================================================================\n",
      "Total params: 9,728\n",
      "Trainable params: 9,600\n",
      "Non-trainable params: 128\n",
      "_________________________________________________________________\n"
     ]
    }
   ],
   "source": [
    "def modified_inception_resnet():\n",
    "    inputs = Input(shape=input_shape)\n",
    "    layer = Conv2D(64, kernel_size=7, strides=(2,2), padding='same')(inputs)\n",
    "    layer = MaxPooling2D(3, 2, padding='same')(layer)\n",
    "    layer = BatchNormalization()(layer)\n",
    "    model = Model(inputs=inputs, outputs=layer)\n",
    "    return model\n",
    "\n",
    "model = modified_inception_resnet()\n",
    "model.summary()\n"
   ]
  },
  {
   "cell_type": "code",
   "execution_count": 27,
   "metadata": {},
   "outputs": [],
   "source": [
    "def conv2d_bn(x, filters, kernel_size, strides=1, padding='same', activation='relu', use_bias=False):\n",
    "    x = Conv2D(filters, kernel_size, strides=strides, padding=padding, use_bias=use_bias)(x)\n",
    "    if not use_bias:\n",
    "        bn_axis = 1 if K.image_data_format() == 'channels_first' else 3\n",
    "        x = BatchNormalization(axis=bn_axis, scale=False)(x)\n",
    "    if activation is not None:\n",
    "        x = Activation(activation)(x)\n",
    "    return x"
   ]
  },
  {
   "cell_type": "code",
   "execution_count": 30,
   "metadata": {},
   "outputs": [],
   "source": [
    "def inception_resnet_block(x, scale, block_type, activation='relu'):\n",
    "    if block_type == \"A\":\n",
    "        branch_0 = conv2d_bn(x, 32, 1)\n",
    "        branch_1 = conv2d_bn(x, 32, 1)\n",
    "        branch_1 = conv2d_bn(branch_1, 32, 3)\n",
    "        branch_2 = conv2d_bn(x, 32, 1)\n",
    "        branch_2 = conv2d_bn(branch_2, 48, 3)\n",
    "        branch_2 = conv2d_bn(branch_2, 64, 3)\n",
    "        branches = [branch_0, branch_1, branch_2]\n",
    "    elif block_type == \"B\":\n",
    "        branch_0 = conv2d_bn(x, 192, 1)\n",
    "        branch_1 = conv2d_bn(x, 128, 1)\n",
    "        branch_1 = conv2d_bn(branch_1, 160, (1, 7))\n",
    "        branch_1 = conv2d_bn(branch_1, 192, (7, 1))\n",
    "        branches = [branch_0, branch_1]\n",
    "    elif block_type == \"C\":\n",
    "        branch_0 = conv2d_bn(x, 192, 1)\n",
    "        branch_1 = conv2d_bn(x, 192, 1)\n",
    "        branch_1 = conv2d_bn(branch_1, 224, (1,3))\n",
    "        branch_1 = conv2d_bn(branch_1, 256, (3,1))\n",
    "        branches = [branch_0, branch_1]\n",
    "    else:\n",
    "        raise ValueError('Invalid Block Type')\n",
    "    concat = Concatenate()(branches)\n",
    "    channel_axis = 1 if K.image_data_format() == \"channels_first\" else 3\n",
    "    up = conv2d_bn(concat, K.int_shape(x)[channel_axis], 1, activation=None, use_bias=True)\n",
    "    x = Lambda(lambda inputs, scale: inputs[0] + inputs[1] * scale, \n",
    "               output_shape = K.int_shape(x)[1:], \n",
    "               arguments = {'scale': scale})([x, up])\n",
    "    if activation is not None: \n",
    "        x = Activation(activation)(x)\n",
    "    return x    "
   ]
  },
  {
   "cell_type": "code",
   "execution_count": 31,
   "metadata": {},
   "outputs": [],
   "source": [
    "def InceptionResNetV2():\n",
    "    inputs = Input(shape=input_shape)\n",
    "    \n",
    "    # Stem\n",
    "    x = conv2d_bn(inputs, 32, 3, strides=2, padding='valid')\n",
    "    x = conv2d_bn(x, 32, 3, padding='valid')\n",
    "    x = conv2d_bn(x, 64, 3)\n",
    "    branch_0 = MaxPooling2D(3, strides=2, padding='valid')(x)\n",
    "    branch_1 = conv2d_bn(x, 96, 3, strides=2, padding='valid')\n",
    "    branches = [branch_0, branch_1]\n",
    "    concat = Concatenate()(branches)\n",
    "    branch_0 = conv2d_bn(concat, 64, 1)\n",
    "    branch_0 = conv2d_bn(branch_0, 96, 3, padding='valid')\n",
    "    branch_1 = conv2d_bn(concat, 64, 1)\n",
    "    branch_1 = conv2d_bn(branch_1, 64, (7,1))\n",
    "    branch_1 = conv2d_bn(branch_1, 64, (1,7))\n",
    "    branch_1 = conv2d_bn(branch_1, 96, 3, padding='valid')\n",
    "    branches = [branch_0, branch_1]\n",
    "    concat = Concatenate()(branches)\n",
    "    branch_0 = conv2d_bn(concat, 192, 3, padding='valid')\n",
    "    branch_1 = MaxPooling2D(strides=2, padding='valid')\n",
    "    branches = [branch_0, branch_1]\n",
    "    x = Concatenate()(branches)\n",
    "    \n",
    "    # 5 x Block A \n",
    "    for _ in range(5):\n",
    "        x = inception_resnet_block(x, 0.1, block_type='A')\n",
    "    \n",
    "    # Reduction-A\n",
    "    branch_0 = conv2d_bn(x, 384, 3, strides=2, padding='valid')\n",
    "    branch_1 = conv2d_bn(x, 256, 1)\n",
    "    branch_1 = conv2d_bn(branch_1, 256, 3)\n",
    "    branch_1 = conv2d_bn(branch_1, 384, 3, strides=2, padding='valid')\n",
    "    branch_pool = MaxPooling2D(3, strides=2, padding='valid')(x)\n",
    "    branches = [branch_0, branch_1, branch_pool]\n",
    "    x = Concatenate()(branches)\n",
    "    \n",
    "    # 10 x Block B \n",
    "    for _ in range(10):\n",
    "        x = inception_resnet_block(x, 0.1, block_type='B')\n",
    "    \n",
    "    # Reduction-B\n",
    "    branch_0 = conv2d_bn(x, 256, 1)\n",
    "    branch_0 = conv2d_bn(branch_0, 384, 3, strides=2, padding='valid')\n",
    "    branch_1 = conv2d_bn(x, 256, 1)\n",
    "    branch_1 = conv2d_bn(branch_1, 288, 3, strides=2, padding='valid')\n",
    "    branch_2 = conv2d_bn(x, 256, 1)\n",
    "    branch_2 = conv2d_bn(branch_2, 288, 3)\n",
    "    branch_2 = conv2d_bn(branch_2, 320, 3, strides=2, padding='valid')\n",
    "    branch_pool = MaxPooling2D(3, strides=2, padding='valid')(x)\n",
    "    branches = [branch_0, branch_1, branch_2, branch_pool]\n",
    "    x = Concatenate()(branches)\n",
    "    \n",
    "    # 5 x Block C\n",
    "    for _ in range(5):\n",
    "        x = inception_resnet_block(x, 0.1, block_type='C')\n",
    "\n",
    "    # Average Pool and Fully connected layer\n",
    "    x = GlobalAveragePooling2D()(x)\n",
    "    x = Dense(embedding_size)(x)\n",
    "    x = Lambda(lambda  x: K.l2_normalize(x,axis=1))(x)\n",
    "    model = Model(inputs, x)\n",
    "    return model\n",
    "    \n",
    "    \n",
    "    "
   ]
  },
  {
   "cell_type": "code",
   "execution_count": null,
   "metadata": {},
   "outputs": [],
   "source": [
    "model = InceptionResNetv2()\n",
    "model"
   ]
  }
 ],
 "metadata": {
  "kernelspec": {
   "display_name": "Python 3",
   "language": "python",
   "name": "python3"
  },
  "language_info": {
   "codemirror_mode": {
    "name": "ipython",
    "version": 3
   },
   "file_extension": ".py",
   "mimetype": "text/x-python",
   "name": "python",
   "nbconvert_exporter": "python",
   "pygments_lexer": "ipython3",
   "version": "3.8.1"
  }
 },
 "nbformat": 4,
 "nbformat_minor": 4
}
