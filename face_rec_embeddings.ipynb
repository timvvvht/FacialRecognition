{
 "cells": [
  {
   "cell_type": "code",
   "execution_count": 122,
   "metadata": {},
   "outputs": [],
   "source": [
    "import cv2\n",
    "import face_recognition\n",
    "import os\n",
    "import numpy as np\n",
    "import imutils\n",
    "import pandas as pd"
   ]
  },
  {
   "cell_type": "code",
   "execution_count": 127,
   "metadata": {},
   "outputs": [],
   "source": [
    "imgpaths = []\n",
    "\n",
    "data_path = r'/Users/timwu/custom_face_data'\n",
    "\n",
    "for dirpath, dirname, filenames in os.walk(data_path):\n",
    "    for filename in filenames:\n",
    "        if 'JPG' in filename or 'jpg' in filename:\n",
    "            imgpaths.append(os.path.join(dirpath, filename))"
   ]
  },
  {
   "cell_type": "code",
   "execution_count": 119,
   "metadata": {},
   "outputs": [],
   "source": [
    "def get_encodings(img_path):\n",
    "    img = cv2.cvtColor(cv2.imread(img_path), cv2.COLOR_BGR2RGB)\n",
    "    boxes = face_recognition.face_locations(img, model='hog')\n",
    "    encodings = np.array(face_recognition.face_encodings(img, boxes))\n",
    "    return encodings"
   ]
  },
  {
   "cell_type": "code",
   "execution_count": 120,
   "metadata": {},
   "outputs": [],
   "source": [
    "imgpaths = [i for i in imgpaths if \"DS_Store\" not in i]\n",
    "df = pd.DataFrame(imgpaths, columns = ['ImgPath'])\n",
    "df['Name'] = df.ImgPath.apply(lambda x: x.split('/')[-2])\n",
    "df['Encodings'] = df.ImgPath.apply(lambda x: get_boxes_encodings(x)[-1])\n"
   ]
  },
  {
   "cell_type": "code",
   "execution_count": 124,
   "metadata": {},
   "outputs": [],
   "source": [
    "df.to_pickle(r'/Users/timwu/custom_face_data/custom_embeddings')"
   ]
  },
  {
   "cell_type": "code",
   "execution_count": 129,
   "metadata": {},
   "outputs": [],
   "source": [
    "df = pd.read_pickle(r'/Users/timwu/custom_face_data/custom_embeddings')\n"
   ]
  },
  {
   "cell_type": "code",
   "execution_count": 130,
   "metadata": {},
   "outputs": [
    {
     "data": {
      "text/html": [
       "<div>\n",
       "<style scoped>\n",
       "    .dataframe tbody tr th:only-of-type {\n",
       "        vertical-align: middle;\n",
       "    }\n",
       "\n",
       "    .dataframe tbody tr th {\n",
       "        vertical-align: top;\n",
       "    }\n",
       "\n",
       "    .dataframe thead th {\n",
       "        text-align: right;\n",
       "    }\n",
       "</style>\n",
       "<table border=\"1\" class=\"dataframe\">\n",
       "  <thead>\n",
       "    <tr style=\"text-align: right;\">\n",
       "      <th></th>\n",
       "      <th>ImgPath</th>\n",
       "      <th>Name</th>\n",
       "      <th>Encodings</th>\n",
       "    </tr>\n",
       "  </thead>\n",
       "  <tbody>\n",
       "    <tr>\n",
       "      <th>0</th>\n",
       "      <td>/Users/timwu/custom_face_data/Alice/IMG_6565.JPG</td>\n",
       "      <td>Alice</td>\n",
       "      <td>[[-0.021817021071910858, 0.11071902513504028, ...</td>\n",
       "    </tr>\n",
       "    <tr>\n",
       "      <th>1</th>\n",
       "      <td>/Users/timwu/custom_face_data/Alice/6D18537D-D...</td>\n",
       "      <td>Alice</td>\n",
       "      <td>[[-0.01894223690032959, 0.0458897203207016, 0....</td>\n",
       "    </tr>\n",
       "    <tr>\n",
       "      <th>2</th>\n",
       "      <td>/Users/timwu/custom_face_data/Alice/6F01197D-A...</td>\n",
       "      <td>Alice</td>\n",
       "      <td>[[-0.024764999747276306, 0.045722492039203644,...</td>\n",
       "    </tr>\n",
       "    <tr>\n",
       "      <th>3</th>\n",
       "      <td>/Users/timwu/custom_face_data/Alice/9c616fcb-4...</td>\n",
       "      <td>Alice</td>\n",
       "      <td>[[-0.036929816007614136, 0.018071576952934265,...</td>\n",
       "    </tr>\n",
       "    <tr>\n",
       "      <th>4</th>\n",
       "      <td>/Users/timwu/custom_face_data/Alice/5319E166-9...</td>\n",
       "      <td>Alice</td>\n",
       "      <td>[[-0.09774244576692581, 0.024625882506370544, ...</td>\n",
       "    </tr>\n",
       "    <tr>\n",
       "      <th>5</th>\n",
       "      <td>/Users/timwu/custom_face_data/Alice/IMG_6153.jpg</td>\n",
       "      <td>Alice</td>\n",
       "      <td>[[-0.06321634352207184, 0.07836568355560303, 0...</td>\n",
       "    </tr>\n",
       "    <tr>\n",
       "      <th>6</th>\n",
       "      <td>/Users/timwu/custom_face_data/Alice/IMG_1262.JPG</td>\n",
       "      <td>Alice</td>\n",
       "      <td>[[-0.05034783482551575, 0.057261496782302856, ...</td>\n",
       "    </tr>\n",
       "    <tr>\n",
       "      <th>7</th>\n",
       "      <td>/Users/timwu/custom_face_data/Alice/3E712749-2...</td>\n",
       "      <td>Alice</td>\n",
       "      <td>[[-0.051800020039081573, 0.06795413792133331, ...</td>\n",
       "    </tr>\n",
       "    <tr>\n",
       "      <th>8</th>\n",
       "      <td>/Users/timwu/custom_face_data/Alice/IMG_6535.jpg</td>\n",
       "      <td>Alice</td>\n",
       "      <td>[[-0.014377564191818237, 0.026042208075523376,...</td>\n",
       "    </tr>\n",
       "    <tr>\n",
       "      <th>9</th>\n",
       "      <td>/Users/timwu/custom_face_data/Tim/tim.jpg</td>\n",
       "      <td>Tim</td>\n",
       "      <td>[[-0.0629766583442688, 0.10112873464822769, 0....</td>\n",
       "    </tr>\n",
       "    <tr>\n",
       "      <th>10</th>\n",
       "      <td>/Users/timwu/custom_face_data/Tim/510daa46-ef5...</td>\n",
       "      <td>Tim</td>\n",
       "      <td>[[-0.046702802181243896, 0.10691332072019577, ...</td>\n",
       "    </tr>\n",
       "    <tr>\n",
       "      <th>11</th>\n",
       "      <td>/Users/timwu/custom_face_data/Tim/tim2.jpg</td>\n",
       "      <td>Tim</td>\n",
       "      <td>[[-0.06676394492387772, 0.08799710869789124, 0...</td>\n",
       "    </tr>\n",
       "    <tr>\n",
       "      <th>12</th>\n",
       "      <td>/Users/timwu/custom_face_data/Tim/tim_1.jpg</td>\n",
       "      <td>Tim</td>\n",
       "      <td>[[-0.07844303548336029, 0.11766715347766876, -...</td>\n",
       "    </tr>\n",
       "    <tr>\n",
       "      <th>13</th>\n",
       "      <td>/Users/timwu/custom_face_data/Tim/24a4aaed-b24...</td>\n",
       "      <td>Tim</td>\n",
       "      <td>[[-0.10208945721387863, 0.10386353731155396, 0...</td>\n",
       "    </tr>\n",
       "    <tr>\n",
       "      <th>14</th>\n",
       "      <td>/Users/timwu/custom_face_data/Tim/abcbeb63-5e7...</td>\n",
       "      <td>Tim</td>\n",
       "      <td>[[-0.06403838843107224, 0.07939285039901733, 0...</td>\n",
       "    </tr>\n",
       "  </tbody>\n",
       "</table>\n",
       "</div>"
      ],
      "text/plain": [
       "                                              ImgPath   Name  \\\n",
       "0    /Users/timwu/custom_face_data/Alice/IMG_6565.JPG  Alice   \n",
       "1   /Users/timwu/custom_face_data/Alice/6D18537D-D...  Alice   \n",
       "2   /Users/timwu/custom_face_data/Alice/6F01197D-A...  Alice   \n",
       "3   /Users/timwu/custom_face_data/Alice/9c616fcb-4...  Alice   \n",
       "4   /Users/timwu/custom_face_data/Alice/5319E166-9...  Alice   \n",
       "5    /Users/timwu/custom_face_data/Alice/IMG_6153.jpg  Alice   \n",
       "6    /Users/timwu/custom_face_data/Alice/IMG_1262.JPG  Alice   \n",
       "7   /Users/timwu/custom_face_data/Alice/3E712749-2...  Alice   \n",
       "8    /Users/timwu/custom_face_data/Alice/IMG_6535.jpg  Alice   \n",
       "9           /Users/timwu/custom_face_data/Tim/tim.jpg    Tim   \n",
       "10  /Users/timwu/custom_face_data/Tim/510daa46-ef5...    Tim   \n",
       "11         /Users/timwu/custom_face_data/Tim/tim2.jpg    Tim   \n",
       "12        /Users/timwu/custom_face_data/Tim/tim_1.jpg    Tim   \n",
       "13  /Users/timwu/custom_face_data/Tim/24a4aaed-b24...    Tim   \n",
       "14  /Users/timwu/custom_face_data/Tim/abcbeb63-5e7...    Tim   \n",
       "\n",
       "                                            Encodings  \n",
       "0   [[-0.021817021071910858, 0.11071902513504028, ...  \n",
       "1   [[-0.01894223690032959, 0.0458897203207016, 0....  \n",
       "2   [[-0.024764999747276306, 0.045722492039203644,...  \n",
       "3   [[-0.036929816007614136, 0.018071576952934265,...  \n",
       "4   [[-0.09774244576692581, 0.024625882506370544, ...  \n",
       "5   [[-0.06321634352207184, 0.07836568355560303, 0...  \n",
       "6   [[-0.05034783482551575, 0.057261496782302856, ...  \n",
       "7   [[-0.051800020039081573, 0.06795413792133331, ...  \n",
       "8   [[-0.014377564191818237, 0.026042208075523376,...  \n",
       "9   [[-0.0629766583442688, 0.10112873464822769, 0....  \n",
       "10  [[-0.046702802181243896, 0.10691332072019577, ...  \n",
       "11  [[-0.06676394492387772, 0.08799710869789124, 0...  \n",
       "12  [[-0.07844303548336029, 0.11766715347766876, -...  \n",
       "13  [[-0.10208945721387863, 0.10386353731155396, 0...  \n",
       "14  [[-0.06403838843107224, 0.07939285039901733, 0...  "
      ]
     },
     "execution_count": 130,
     "metadata": {},
     "output_type": "execute_result"
    }
   ],
   "source": [
    "df"
   ]
  },
  {
   "cell_type": "code",
   "execution_count": 131,
   "metadata": {},
   "outputs": [],
   "source": [
    "x = np.arange(10)"
   ]
  },
  {
   "cell_type": "code",
   "execution_count": 133,
   "metadata": {},
   "outputs": [
    {
     "data": {
      "text/plain": [
       "{0, 1, 2, 3, 4, 5, 6, 7, 8, 9}"
      ]
     },
     "execution_count": 133,
     "metadata": {},
     "output_type": "execute_result"
    }
   ],
   "source": [
    "set(x)"
   ]
  },
  {
   "cell_type": "code",
   "execution_count": null,
   "metadata": {},
   "outputs": [],
   "source": []
  }
 ],
 "metadata": {
  "kernelspec": {
   "display_name": "Python 3",
   "language": "python",
   "name": "python3"
  },
  "language_info": {
   "codemirror_mode": {
    "name": "ipython",
    "version": 3
   },
   "file_extension": ".py",
   "mimetype": "text/x-python",
   "name": "python",
   "nbconvert_exporter": "python",
   "pygments_lexer": "ipython3",
   "version": "3.8.1"
  }
 },
 "nbformat": 4,
 "nbformat_minor": 4
}
