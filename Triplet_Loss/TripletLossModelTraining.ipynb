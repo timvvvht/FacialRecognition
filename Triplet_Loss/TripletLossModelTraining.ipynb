{
  "nbformat": 4,
  "nbformat_minor": 0,
  "metadata": {
    "colab": {
      "name": "TripletLossModelTraining.ipynb",
      "provenance": [],
      "collapsed_sections": []
    },
    "kernelspec": {
      "display_name": "Python 3",
      "name": "python3"
    },
    "accelerator": "GPU"
  },
  "cells": [
    {
      "cell_type": "code",
      "metadata": {
        "id": "COl6bCYftVha"
      },
      "source": [
        "import tensorflow as tf\n",
        "from tensorflow import keras\n",
        "from keras.models import Sequential, Input, Model\n",
        "from keras.layers import Dense, Input, Lambda, Layer, Dropout, Flatten, GlobalAveragePooling2D, GlobalMaxPooling2D\n",
        "from keras import backend as K\n",
        "from keras.callbacks import ModelCheckpoint\n",
        "\n",
        "from tensorflow.keras.layers.experimental.preprocessing import RandomFlip, RandomRotation, RandomTranslation, RandomZoom\n",
        "from tensorflow.keras.applications import Xception\n",
        "import tensorflow_addons as tfa \n",
        "\n",
        "import numpy as np\n",
        "import pandas as pd\n",
        "import os"
      ],
      "execution_count": null,
      "outputs": []
    },
    {
      "cell_type": "code",
      "metadata": {
        "id": "SMUyqxWjR03F"
      },
      "source": [
        "'''Triplet loss function from omoindrot's github repository (https://github.com/omoindrot/tensorflow-triplet-loss) \n",
        "Updated code to work with Tensorflow 2 and added function for keras compatibility\n",
        " '''\n",
        "\n",
        "def _pairwise_distances(embeddings, squared=False):\n",
        "    \"\"\"Compute the 2D matrix of distances between all the embeddings.\n",
        "    Args:\n",
        "        embeddings: tensor of shape (batch_size, embed_dim)\n",
        "        squared: Boolean. If true, output is the pairwise squared euclidean distance matrix.\n",
        "                 If false, output is the pairwise euclidean distance matrix.\n",
        "    Returns:\n",
        "        pairwise_distances: tensor of shape (batch_size, batch_size)\n",
        "    \"\"\"\n",
        "    # Get the dot product between all embeddings\n",
        "    # shape (batch_size, batch_size)\n",
        "    dot_product = tf.matmul(embeddings, tf.transpose(embeddings))\n",
        "\n",
        "    # Get squared L2 norm for each embedding. We can just take the diagonal of `dot_product`.\n",
        "    # This also provides more numerical stability (the diagonal of the result will be exactly 0).\n",
        "    # shape (batch_size,)\n",
        "    square_norm = tf.linalg.diag_part(dot_product)\n",
        "\n",
        "    # Compute the pairwise distance matrix as we have:\n",
        "    # ||a - b||^2 = ||a||^2  - 2 <a, b> + ||b||^2\n",
        "    # shape (batch_size, batch_size)\n",
        "    distances = tf.expand_dims(square_norm, 1) - 2.0 * dot_product + tf.expand_dims(square_norm, 0)\n",
        "\n",
        "    # Because of computation errors, some distances might be negative so we put everything >= 0.0\n",
        "    distances = tf.maximum(distances, 0.0)\n",
        "\n",
        "    if not squared:\n",
        "        # Because the gradient of sqrt is infinite when distances == 0.0 (ex: on the diagonal)\n",
        "        # we need to add a small epsilon where distances == 0.0\n",
        "        mask = tf.cast(tf.equal(distances, 0.0), dtype=tf.float32)\n",
        "        distances = distances + mask * 1e-16\n",
        "\n",
        "        distances = tf.sqrt(distances)\n",
        "\n",
        "        # Correct the epsilon added: set the distances on the mask to be exactly 0.0\n",
        "        distances = distances * (1.0 - mask)\n",
        "\n",
        "    return distances\n",
        "\n",
        "\n",
        "def _get_anchor_positive_triplet_mask(labels):\n",
        "    \"\"\"Return a 2D mask where mask[a, p] is True iff a and p are distinct and have same label.\n",
        "    Args:\n",
        "        labels: tf.int32 `Tensor` with shape [batch_size]\n",
        "    Returns:\n",
        "        mask: tf.bool `Tensor` with shape [batch_size, batch_size]\n",
        "    \"\"\"\n",
        "    # Check that i and j are distinct\n",
        "    indices_equal = tf.cast(tf.eye(tf.shape(labels)[0]), tf.bool)\n",
        "    indices_not_equal = tf.logical_not(indices_equal)\n",
        "\n",
        "    # Check if labels[i] == labels[j]\n",
        "    # Uses broadcasting where the 1st argument has shape (1, batch_size) and the 2nd (batch_size, 1)\n",
        "    labels_equal = tf.equal(tf.expand_dims(labels, 0), tf.expand_dims(labels, 1))\n",
        "\n",
        "    # Combine the two masks\n",
        "    mask = tf.logical_and(indices_not_equal, labels_equal)\n",
        "\n",
        "    return mask\n",
        "\n",
        "\n",
        "def _get_anchor_negative_triplet_mask(labels):\n",
        "    \"\"\"Return a 2D mask where mask[a, n] is True iff a and n have distinct labels.\n",
        "    Args:\n",
        "        labels: tf.int32 `Tensor` with shape [batch_size]\n",
        "    Returns:\n",
        "        mask: tf.bool `Tensor` with shape [batch_size, batch_size]\n",
        "    \"\"\"\n",
        "    # Check if labels[i] != labels[k]\n",
        "    # Uses broadcasting where the 1st argument has shape (1, batch_size) and the 2nd (batch_size, 1)\n",
        "    labels_equal = tf.equal(tf.expand_dims(labels, 0), tf.expand_dims(labels, 1))\n",
        "\n",
        "    mask = tf.logical_not(labels_equal)\n",
        "\n",
        "    return mask\n",
        "\n",
        "\n",
        "def _get_triplet_mask(labels):\n",
        "    \"\"\"Return a 3D mask where mask[a, p, n] is True iff the triplet (a, p, n) is valid.\n",
        "    A triplet (i, j, k) is valid if:\n",
        "        - i, j, k are distinct\n",
        "        - labels[i] == labels[j] and labels[i] != labels[k]\n",
        "    Args:\n",
        "        labels: tf.int32 `Tensor` with shape [batch_size]\n",
        "    \"\"\"\n",
        "    # Check that i, j and k are distinct\n",
        "    indices_equal = tf.cast(tf.eye(tf.shape(labels)[0]), tf.bool)\n",
        "    indices_not_equal = tf.logical_not(indices_equal)\n",
        "    i_not_equal_j = tf.expand_dims(indices_not_equal, 2)\n",
        "    i_not_equal_k = tf.expand_dims(indices_not_equal, 1)\n",
        "    j_not_equal_k = tf.expand_dims(indices_not_equal, 0)\n",
        "\n",
        "    distinct_indices = tf.logical_and(tf.logical_and(i_not_equal_j, i_not_equal_k), j_not_equal_k)\n",
        "\n",
        "\n",
        "    # Check if labels[i] == labels[j] and labels[i] != labels[k]\n",
        "    label_equal = tf.equal(tf.expand_dims(labels, 0), tf.expand_dims(labels, 1))\n",
        "    i_equal_j = tf.expand_dims(label_equal, 2)\n",
        "    i_equal_k = tf.expand_dims(label_equal, 1)\n",
        "\n",
        "    valid_labels = tf.logical_and(i_equal_j, tf.logical_not(i_equal_k))\n",
        "\n",
        "    # Combine the two masks\n",
        "    mask = tf.logical_and(distinct_indices, valid_labels)\n",
        "\n",
        "    return mask\n",
        "\n",
        "\n",
        "def batch_hard_triplet_loss(labels, embeddings, margin, squared=False):\n",
        "    \"\"\"Build the triplet loss over a batch of embeddings.\n",
        "    For each anchor, we get the hardest positive and hardest negative to form a triplet.\n",
        "    Args:\n",
        "        labels: labels of the batch, of size (batch_size,)\n",
        "        embeddings: tensor of shape (batch_size, embed_dim)\n",
        "        margin: margin for triplet loss\n",
        "        squared: Boolean. If true, output is the pairwise squared euclidean distance matrix.\n",
        "                 If false, output is the pairwise euclidean distance matrix.\n",
        "    Returns:\n",
        "        triplet_loss: scalar tensor containing the triplet loss\n",
        "    \"\"\"\n",
        "    # Get the pairwise distance matrix\n",
        "    pairwise_dist = _pairwise_distances(embeddings, squared=squared)\n",
        "\n",
        "    # For each anchor, get the hardest positive\n",
        "    # First, we need to get a mask for every valid positive (they should have same label)\n",
        "    mask_anchor_positive = _get_anchor_positive_triplet_mask(labels)\n",
        "    mask_anchor_positive = tf.cast(mask_anchor_positive, dtype=tf.float32)\n",
        "\n",
        "    # We put to 0 any element where (a, p) is not valid (valid if a != p and label(a) == label(p))\n",
        "    anchor_positive_dist = tf.multiply(mask_anchor_positive, pairwise_dist)\n",
        "\n",
        "    # shape (batch_size, 1)\n",
        "    hardest_positive_dist = tf.reduce_max(anchor_positive_dist, axis=1, keepdims=True)\n",
        "    tf.summary.scalar(\"hardest_positive_dist\", tf.reduce_mean(hardest_positive_dist))\n",
        "\n",
        "    # For each anchor, get the hardest negative\n",
        "    # First, we need to get a mask for every valid negative (they should have different labels)\n",
        "    mask_anchor_negative = _get_anchor_negative_triplet_mask(labels)\n",
        "    mask_anchor_negative = tf.cast(mask_anchor_negative, dtype=tf.float32)\n",
        "\n",
        "    # We add the maximum value in each row to the invalid negatives (label(a) == label(n))\n",
        "    max_anchor_negative_dist = tf.reduce_max(pairwise_dist, axis=1, keepdims=True)\n",
        "    anchor_negative_dist = pairwise_dist + max_anchor_negative_dist * (1.0 - mask_anchor_negative)\n",
        "\n",
        "    # shape (batch_size,)\n",
        "    hardest_negative_dist = tf.reduce_min(anchor_negative_dist, axis=1, keepdims=True)\n",
        "    tf.summary.scalar(\"hardest_negative_dist\", tf.reduce_mean(hardest_negative_dist))\n",
        "\n",
        "    # Combine biggest d(a, p) and smallest d(a, n) into final triplet loss\n",
        "    triplet_loss = tf.maximum(hardest_positive_dist - hardest_negative_dist + margin, 0.0)\n",
        "\n",
        "    # Get final mean triplet loss\n",
        "    triplet_loss = tf.reduce_mean(triplet_loss)\n",
        "\n",
        "    return triplet_loss\n",
        "\n",
        "\n",
        "def keras_batch_hard_triplet_loss(labels, y_pred):\n",
        "    labels = K.flatten(labels)\n",
        "    return batch_hard_triplet_loss(labels, y_pred, margin = margin)"
      ],
      "execution_count": null,
      "outputs": []
    },
    {
      "cell_type": "code",
      "metadata": {
        "id": "LwQYtmoTgs0p"
      },
      "source": [
        "# Load dataset\n",
        "X = np.load('/content/drive/My Drive/Data/FaceDataset/celebA_mtcnn_X.npy', allow_pickle=True)\n",
        "Y = np.load('/content/drive/My Drive/Data/FaceDataset/celebA_mtcnn_Y.npy', allow_pickle=True)\n",
        "Y = np.array([int(i) for i in Y])\n",
        "assert X.shape[0] == Y.shape[0]"
      ],
      "execution_count": null,
      "outputs": []
    },
    {
      "cell_type": "code",
      "metadata": {
        "id": "C4cW-aNGy3C-"
      },
      "source": [
        "# Shuffle Dataset\n",
        "np.random.seed(42)\n",
        "idx = np.random.permutation(len(Y))\n",
        "\n",
        "X, Y = X[idx], Y[idx]"
      ],
      "execution_count": null,
      "outputs": []
    },
    {
      "cell_type": "code",
      "metadata": {
        "id": "gQiThiRVNie9",
        "outputId": "dab1f5ac-1be7-4516-f8ad-e00a3868adbe",
        "colab": {
          "base_uri": "https://localhost:8080/"
        }
      },
      "source": [
        "# Split Training Data into Train Set and Test Set \n",
        " \n",
        "train_split = int(X.shape[0] * 0.95)\n",
        "X_train = X[:train_split]\n",
        "X_test = X[train_split:]\n",
        "Y_train = Y[:train_split]\n",
        "Y_test = Y[train_split:]\n",
        "print(X_train.shape, X_test.shape, Y_train.shape, Y_test.shape)\n",
        "del X\n",
        "del Y"
      ],
      "execution_count": null,
      "outputs": [
        {
          "output_type": "stream",
          "text": [
            "(188924, 96, 96, 3) (9944, 96, 96, 3) (188924,) (9944,)\n"
          ],
          "name": "stdout"
        }
      ]
    },
    {
      "cell_type": "code",
      "metadata": {
        "id": "RtPHmxVoatck"
      },
      "source": [
        "train_data = tf.data.Dataset.from_tensor_slices((X_train, Y_train))\n",
        "#val_data = tf.data.Dataset.from_tensor_slices((X_test, Y_test))\n",
        "del X_train\n",
        "del Y_train"
      ],
      "execution_count": null,
      "outputs": []
    },
    {
      "cell_type": "code",
      "metadata": {
        "id": "E3Kb3186wOR6"
      },
      "source": [
        "# Apply image augmentation to hopefully compensate for relatively small dataset\n",
        "\n",
        "def rand_brightness(x, p=0.85):\n",
        "    if tf.random.uniform([]) < p: \n",
        "        return tf.image.random_brightness(x, 0.5)\n",
        "    else:\n",
        "        return x\n",
        "\n",
        "\n",
        "def saturate(x, p=0.85):\n",
        "    if tf.random.uniform([]) < p:\n",
        "        return tf.image.random_saturation(x, 1,8)\n",
        "    else:\n",
        "        return x\n",
        "\n",
        "def rand_contrast(x, p=0.85):\n",
        "    if tf.random.uniform([]) < p:\n",
        "        return tf.image.random_contrast(x, 0.1, 0.8)\n",
        "    else:\n",
        "        return x \n",
        "\n",
        "\n",
        "def hue(x, p=0.85):\n",
        "    if tf.random.uniform([]) < p:\n",
        "        return tf.image.random_hue(x, 0.1)\n",
        "    else:\n",
        "        return x\n",
        "\n",
        "class Augment(Layer):\n",
        "    def __init__(self, **kwargs):\n",
        "        super().__init__(**kwargs)\n",
        "    \n",
        "    def call(self, x):\n",
        "        x = rand_brightness(x)\n",
        "        x = saturate(x)\n",
        "        x = rand_contrast(x)\n",
        "        x = hue(x)\n",
        "        return x\n",
        "\n",
        "data_augmentation = tf.keras.Sequential([Augment(),\n",
        "                                         RandomFlip(\"horizontal\"),\n",
        "                                         RandomRotation(0.2), \n",
        "                                         RandomTranslation(height_factor=(-0.3, 0.3), width_factor=(-0.3, 0.3)),\n",
        "                                         RandomZoom(0.3, 0.3),\n",
        "                                         Augment(),\n",
        "                                         Augment()])\n",
        "\n"
      ],
      "execution_count": null,
      "outputs": []
    },
    {
      "cell_type": "code",
      "metadata": {
        "id": "a8lreuIAeKjF"
      },
      "source": [
        "def prepare(ds, shuffle=False, augment=True):\n",
        "    if shuffle: \n",
        "        ds = ds.shuffle(batch_size)\n",
        "    ds = ds.batch(batch_size)\n",
        "    if augment:\n",
        "        ds = ds.map(lambda x, y: (data_augmentation(x), y),\n",
        "                    num_parallel_calls=AUTOTUNE)\n",
        "    return ds.prefetch(buffer_size=AUTOTUNE)"
      ],
      "execution_count": null,
      "outputs": []
    },
    {
      "cell_type": "code",
      "metadata": {
        "id": "Ert7kXnDAsAK"
      },
      "source": [
        "# Hyper-parameters for Triplet Loss Model\n",
        "batch_size = 256\n",
        "epochs = 10\n",
        "learning_rate = 1e-4\n",
        "embedding_size = 128\n",
        "input_shape = (96, 96, 3)\n",
        "margin = 2\n",
        "AUTOTUNE = tf.data.experimental.AUTOTUNE"
      ],
      "execution_count": null,
      "outputs": []
    },
    {
      "cell_type": "code",
      "metadata": {
        "id": "nMVjOFRWeKgo"
      },
      "source": [
        "train_data = prepare(train_data, shuffle=True, augment=True)\n",
        "#val_data = prepare(val_data)\n"
      ],
      "execution_count": null,
      "outputs": []
    },
    {
      "cell_type": "code",
      "metadata": {
        "id": "MEihuVoi3N5X"
      },
      "source": [
        "# Using Adam as optimizer of choice, although stochastic gradient descent (SGD) is a reasonable alternative to be explored\n",
        "optimizer = tf.keras.optimizers.Adam(learning_rate=learning_rate)"
      ],
      "execution_count": null,
      "outputs": []
    },
    {
      "cell_type": "code",
      "metadata": {
        "id": "yaFFCqgUp0qH",
        "outputId": "b51b42bb-1fcb-4e7e-d4dc-60367324b4d7",
        "colab": {
          "base_uri": "https://localhost:8080/"
        }
      },
      "source": [
        "# Instantiate Xception Model\n",
        "xception = Xception(weights=\"imagenet\", input_shape=input_shape, include_top=False)\n",
        "xception.trainable = False\n",
        "\n",
        "inputs = Input(shape=input_shape)\n",
        "# Layer for Xception preprocessing\n",
        "layer = Lambda(lambda x: (x/127.5)-1)(inputs)\n",
        "layer = xception(layer)\n",
        "layer = GlobalMaxPooling2D()(layer)\n",
        "layer = Dropout(0.8)(layer)\n",
        "layer = Dense(embedding_size*4, activation='relu')(layer)\n",
        "layer = Dropout(0.5)(layer)\n",
        "layer = Dense(embedding_size)(layer)\n",
        "layer = Lambda(lambda x: tf.math.l2_normalize(x, axis=1))(layer)\n",
        "model = Model(inputs, layer)\n",
        "model.summary()"
      ],
      "execution_count": null,
      "outputs": [
        {
          "output_type": "stream",
          "text": [
            "Model: \"functional_1\"\n",
            "_________________________________________________________________\n",
            "Layer (type)                 Output Shape              Param #   \n",
            "=================================================================\n",
            "input_2 (InputLayer)         [(None, 96, 96, 3)]       0         \n",
            "_________________________________________________________________\n",
            "lambda (Lambda)              (None, 96, 96, 3)         0         \n",
            "_________________________________________________________________\n",
            "xception (Functional)        (None, 3, 3, 2048)        20861480  \n",
            "_________________________________________________________________\n",
            "global_max_pooling2d (Global (None, 2048)              0         \n",
            "_________________________________________________________________\n",
            "dropout (Dropout)            (None, 2048)              0         \n",
            "_________________________________________________________________\n",
            "dense (Dense)                (None, 512)               1049088   \n",
            "_________________________________________________________________\n",
            "dropout_1 (Dropout)          (None, 512)               0         \n",
            "_________________________________________________________________\n",
            "dense_1 (Dense)              (None, 128)               65664     \n",
            "_________________________________________________________________\n",
            "lambda_1 (Lambda)            (None, 128)               0         \n",
            "=================================================================\n",
            "Total params: 21,976,232\n",
            "Trainable params: 1,114,752\n",
            "Non-trainable params: 20,861,480\n",
            "_________________________________________________________________\n"
          ],
          "name": "stdout"
        }
      ]
    },
    {
      "cell_type": "code",
      "metadata": {
        "id": "GocUTH3iRAIn"
      },
      "source": [
        "weights = r'/content/drive/My Drive/Data/FaceDataset/global_max_pooling_FC_4_1_xception.1.4245.hdf5'\n",
        "model.load_weights(weights)\n",
        "\n",
        "#checkpoint_path = \"/content/drive/My Drive/Data/FaceDataset/512BS_1M-3FC_16_4_1_xception_weights.{val_loss:.4f}.hdf5\"\n",
        "checkpoint_path = \"/content/drive/My Drive/Data/FaceDataset/global_max_pooling_FC_4_1_xception.{val_loss:.4f}.hdf5\"\n",
        "checkpoint = tf.keras.callbacks.ModelCheckpoint(checkpoint_path, monitor='val_loss', verbose=1, save_best_only=False, save_weights_only=True, mode='auto')\n"
      ],
      "execution_count": null,
      "outputs": []
    },
    {
      "cell_type": "code",
      "metadata": {
        "id": "KW2KtCicgDRn",
        "outputId": "f5fac70b-dd7a-4f15-9f8a-bb345860ec5d",
        "colab": {
          "base_uri": "https://localhost:8080/"
        }
      },
      "source": [
        "model.compile(loss=keras_batch_hard_triplet_loss,\n",
        "              optimizer=optimizer)\n",
        "\n",
        "history = model.fit(train_data,\n",
        "          epochs=epochs,\n",
        "          validation_data=(X_test, Y_test),\n",
        "          callbacks=[checkpoint])"
      ],
      "execution_count": null,
      "outputs": [
        {
          "output_type": "stream",
          "text": [
            "Epoch 1/10\n",
            "738/738 [==============================] - ETA: 0s - loss: 0.8167WARNING:tensorflow:Callbacks method `on_test_batch_end` is slow compared to the batch time (batch time: 0.0052s vs `on_test_batch_end` time: 0.0213s). Check your callbacks.\n",
            "\n",
            "Epoch 00001: saving model to /content/drive/My Drive/Data/FaceDataset/global_max_pooling_FC_4_1_xception.1.4292.hdf5\n",
            "738/738 [==============================] - 683s 925ms/step - loss: 0.8167 - val_loss: 1.4292\n"
          ],
          "name": "stdout"
        }
      ]
    }
  ]
}